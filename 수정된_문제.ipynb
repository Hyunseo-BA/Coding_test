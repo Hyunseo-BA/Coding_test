{
 "cells": [
  {
   "cell_type": "code",
   "execution_count": null,
   "metadata": {},
   "outputs": [],
   "source": [
    "# Q1 : 문자열 바꾸기\n",
    "a:b:c:d -> a#b#c#d\n",
    "split 과 join 함수 사용하여 문자열 고치기\n",
    "\n",
    "data='a:b:c:d'\n",
    "\n",
    "a = data.split(sep=\":\")\n",
    "\n",
    "result='#'.join(a)\n",
    "print(result)"
   ]
  },
  {
   "cell_type": "code",
   "execution_count": null,
   "metadata": {},
   "outputs": [],
   "source": [
    "# Q2 : 딕셔너리 값 추출\n",
    "# 딕셔너리 a에서 'C'라는 키에 해당하는 밸류를 출력\n",
    "a = {'A':90, 'B':80}\n",
    "print(a.get('C', 70))"
   ]
  },
  {
   "cell_type": "code",
   "execution_count": null,
   "metadata": {},
   "outputs": [],
   "source": [
    "# Q3 : 리스트 더하기\n",
    "# 리스트 a에 extend 함수를 사용하면 뭐가 다른지?\n",
    "a=[1,2,3]\n",
    "a.extend([4,5])\n",
    "a"
   ]
  },
  {
   "cell_type": "code",
   "execution_count": null,
   "metadata": {},
   "outputs": [],
   "source": [
    "# Q4 : 리스트 총합 구하기\n",
    "# A 학급 학생점수를 나타낸 리스트에서 50점 이상인 점수의 총합\n",
    "\n",
    "A = [20, 55, 67, 82, 45, 33, 90, 87, 100, 25]\n",
    "result = 0\n",
    "for i in A:\n",
    "    if i >= 50:\n",
    "        result += i\n",
    "print(result)"
   ]
  },
  {
   "cell_type": "code",
   "execution_count": null,
   "metadata": {},
   "outputs": [],
   "source": [
    "# Q5 : 피보나치 함수\n",
    "# 첫번째 항의 값이 0이고, 두번째 항의 값이 1일때, 다음 항은 이전 두항을 더한 값으로 이루어진 수열\n",
    "# 0, 1, 1, 2, 3, 5, 8, 13 ...\n",
    "# 입력을 n으로 받았을 때, n 항 이하까지의 피보나치 수열을 출력하는 함수 작성\n",
    "\n",
    "n = int(input())\n",
    "\n",
    "def fibo_rec(n):\n",
    "    if n == 0 : return 0\n",
    "    elif n == 1 : return 1\n",
    "    else : return fibo_rec(n-2) + fibo_rec(n-1)\n",
    "\n",
    "for i in range(n):\n",
    "    print(fibo_rec(i), end=' ')\n",
    "\n",
    "def fibo_my(n):\n",
    "    result = [0, 1]\n",
    "    \n",
    "    for i in range(n-2):\n",
    "        n3 = result[i]+ result[i+1]\n",
    "        result.append(n3)\n",
    "\n",
    "    return result\n",
    "\n",
    "print(fibo_my(n))"
   ]
  },
  {
   "cell_type": "code",
   "execution_count": null,
   "metadata": {},
   "outputs": [],
   "source": [
    "# Q6. 숫자 총합 구하기\n",
    "# 사용자로부터 정해진 숫자를 입력받아 그 총합을 구하는 프로그램\n",
    "# 숫자는 콤마로 구분\n",
    "\n",
    "numbers = list(map(int, input().split(sep=',')))\n",
    "\n",
    "result = 0\n",
    "for i in numbers:\n",
    "    result += i\n",
    "\n",
    "print(result)"
   ]
  },
  {
   "cell_type": "code",
   "execution_count": null,
   "metadata": {},
   "outputs": [],
   "source": [
    "# Q7. 한 줄 구구단\n",
    "# 구구단을 출력할 숫자를 입력하세요(2~9) : 2\n",
    "# 2 4 6 ... 18\n",
    "\n",
    "n = int(input('구구단을 출력할 숫자를 입력하세요(2~9) : '))\n",
    "for i in range(1,10):\n",
    "    print(n * i, end=' ')"
   ]
  },
  {
   "cell_type": "code",
   "execution_count": null,
   "metadata": {},
   "outputs": [],
   "source": [
    "# Q8. 사칙연산 계산기\n",
    "class Calculator:\n",
    "    def __init__(self, number_list):\n",
    "        self.number_list = number_list\n",
    "\n",
    "    def add(self):\n",
    "        result =0\n",
    "        for i in self.number_list:\n",
    "            result += i\n",
    "        return result\n",
    "\n",
    "    def avg(self):\n",
    "        result =0\n",
    "        for i in self.number_list:\n",
    "            result += i\n",
    "        return result/len(self.number_list)\n",
    "\n",
    "cal1 = Calculator([1,2,3,4])\n",
    "print(cal1.add(), cal1.avg())"
   ]
  }
 ],
 "metadata": {
  "kernelspec": {
   "display_name": "Python 3.10.4 64-bit",
   "language": "python",
   "name": "python3"
  },
  "language_info": {
   "name": "python",
   "version": "3.10.4"
  },
  "orig_nbformat": 4,
  "vscode": {
   "interpreter": {
    "hash": "fb4569285eef3a3450cb62085a5b1e0da4bce0af555edc33dcf29baf3acc1368"
   }
  }
 },
 "nbformat": 4,
 "nbformat_minor": 2
}
